{
 "cells": [
  {
   "cell_type": "markdown",
   "metadata": {},
   "source": [
    "# Les Fonctions"
   ]
  },
  {
   "cell_type": "code",
   "execution_count": 14,
   "metadata": {},
   "outputs": [],
   "source": [
    "import math\n",
    "import statistics as st"
   ]
  },
  {
   "cell_type": "markdown",
   "metadata": {},
   "source": [
    "## Algorithme d'Euclide\n",
    "https://fr.wikipedia.org/wiki/Algorithme_d%27Euclide\n",
    "\n",
    "Exemple:\n",
    "    - a = 21\n",
    "    - b = 15\n",
    "    - r = a % b = 6\n",
    "    - Décalage\n",
    "    - a = 15\n",
    "    - b = 6\n",
    "    - r = a % b = 3\n",
    "    - Décalage\n",
    "    - a = 6\n",
    "    - b = 3\n",
    "    - r = a % b = 0\n",
    "    - Décalage\n",
    "    - a = 3\n",
    "    - b = 0\n",
    "    - Fin car b = 0, pgcd = a = 3"
   ]
  },
  {
   "cell_type": "code",
   "execution_count": 1,
   "metadata": {},
   "outputs": [
    {
     "name": "stdout",
     "output_type": "stream",
     "text": [
      "Le pgcd est : 3\n"
     ]
    }
   ],
   "source": [
    "a = 21\n",
    "b = 15\n",
    "while b != 0:\n",
    "    r = a % b\n",
    "    a, b = b, r\n",
    "print(\"Le pgcd est :\", a)"
   ]
  },
  {
   "cell_type": "code",
   "execution_count": 6,
   "metadata": {},
   "outputs": [
    {
     "name": "stdout",
     "output_type": "stream",
     "text": [
      "Le pgcd est : 3\n"
     ]
    }
   ],
   "source": [
    "a = 21\n",
    "b = 15\n",
    "g = math.gcd(a,b)\n",
    "print(\"Le pgcd est :\", g)"
   ]
  },
  {
   "cell_type": "code",
   "execution_count": 7,
   "metadata": {},
   "outputs": [
    {
     "data": {
      "text/plain": [
       "3.141592653589793"
      ]
     },
     "execution_count": 7,
     "metadata": {},
     "output_type": "execute_result"
    }
   ],
   "source": [
    "math.pi"
   ]
  },
  {
   "cell_type": "markdown",
   "metadata": {},
   "source": [
    "## Appels de fonction"
   ]
  },
  {
   "cell_type": "code",
   "execution_count": 8,
   "metadata": {},
   "outputs": [],
   "source": [
    "temperatures = [ 25.6, 14.2, 29.3, 35.4, -2.5, 7.5 ]"
   ]
  },
  {
   "cell_type": "code",
   "execution_count": 9,
   "metadata": {},
   "outputs": [
    {
     "data": {
      "text/plain": [
       "-2.5"
      ]
     },
     "execution_count": 9,
     "metadata": {},
     "output_type": "execute_result"
    }
   ],
   "source": [
    "# fonctions built-in\n",
    "min(temperatures)"
   ]
  },
  {
   "cell_type": "code",
   "execution_count": 10,
   "metadata": {},
   "outputs": [
    {
     "data": {
      "text/plain": [
       "35.4"
      ]
     },
     "execution_count": 10,
     "metadata": {},
     "output_type": "execute_result"
    }
   ],
   "source": [
    "max(temperatures)"
   ]
  },
  {
   "cell_type": "code",
   "execution_count": 12,
   "metadata": {},
   "outputs": [
    {
     "data": {
      "text/plain": [
       "109.5"
      ]
     },
     "execution_count": 12,
     "metadata": {},
     "output_type": "execute_result"
    }
   ],
   "source": [
    "sum(temperatures)"
   ]
  },
  {
   "cell_type": "code",
   "execution_count": 13,
   "metadata": {},
   "outputs": [
    {
     "data": {
      "text/plain": [
       "6"
      ]
     },
     "execution_count": 13,
     "metadata": {},
     "output_type": "execute_result"
    }
   ],
   "source": [
    "len(temperatures)"
   ]
  },
  {
   "cell_type": "code",
   "execution_count": 15,
   "metadata": {},
   "outputs": [
    {
     "data": {
      "text/plain": [
       "18.25"
      ]
     },
     "execution_count": 15,
     "metadata": {},
     "output_type": "execute_result"
    }
   ],
   "source": [
    "# moyenne : fonction du module statistics importé avec l'alias st\n",
    "st.mean(temperatures)"
   ]
  },
  {
   "cell_type": "code",
   "execution_count": 17,
   "metadata": {},
   "outputs": [
    {
     "data": {
      "text/plain": [
       "14.372021430543443"
      ]
     },
     "execution_count": 17,
     "metadata": {},
     "output_type": "execute_result"
    }
   ],
   "source": [
    "# écart type\n",
    "st.stdev(temperatures)"
   ]
  },
  {
   "cell_type": "code",
   "execution_count": 56,
   "metadata": {},
   "outputs": [
    {
     "data": {
      "text/plain": [
       "505.19166666666666"
      ]
     },
     "execution_count": 56,
     "metadata": {},
     "output_type": "execute_result"
    }
   ],
   "source": [
    "# moyenne des carrés des températures\n",
    "# en calculant la liste des carrés des températures\n",
    "# NB : attention au coût mémoire\n",
    "carreTemperatures = []\n",
    "for t in temperatures:\n",
    "    t2 = t**2\n",
    "    carreTemperatures.append(t2)\n",
    "tempCarreMoyenne = st.mean(carreTemperatures)\n",
    "tempCarreMoyenne"
   ]
  },
  {
   "cell_type": "code",
   "execution_count": 57,
   "metadata": {},
   "outputs": [
    {
     "data": {
      "text/plain": [
       "[655.3600000000001, 201.64, 858.49, 1253.1599999999999, 6.25, 56.25]"
      ]
     },
     "execution_count": 57,
     "metadata": {},
     "output_type": "execute_result"
    }
   ],
   "source": [
    "# list comprehension\n",
    "carreTemperatures = [ t**2 for t in temperatures ] \n",
    "carreTemperatures"
   ]
  },
  {
   "cell_type": "code",
   "execution_count": 58,
   "metadata": {},
   "outputs": [
    {
     "data": {
      "text/plain": [
       "505.19166666666666"
      ]
     },
     "execution_count": 58,
     "metadata": {},
     "output_type": "execute_result"
    }
   ],
   "source": [
    "tempCarreMoyenne = st.mean(carreTemperatures)\n",
    "tempCarreMoyenne"
   ]
  },
  {
   "cell_type": "code",
   "execution_count": 59,
   "metadata": {},
   "outputs": [
    {
     "data": {
      "text/plain": [
       "<generator object <genexpr> at 0x00000242ADBC3DC8>"
      ]
     },
     "execution_count": 59,
     "metadata": {},
     "output_type": "execute_result"
    }
   ],
   "source": [
    "# generator\n",
    "carreTemperatures = (t**2 for t in temperatures)\n",
    "carreTemperatures"
   ]
  },
  {
   "cell_type": "code",
   "execution_count": 66,
   "metadata": {},
   "outputs": [
    {
     "ename": "StopIteration",
     "evalue": "",
     "output_type": "error",
     "traceback": [
      "\u001b[1;31m---------------------------------------------------------------------------\u001b[0m",
      "\u001b[1;31mStopIteration\u001b[0m                             Traceback (most recent call last)",
      "\u001b[1;32m<ipython-input-66-bc0dc031518a>\u001b[0m in \u001b[0;36m<module>\u001b[1;34m\u001b[0m\n\u001b[1;32m----> 1\u001b[1;33m \u001b[0mnext\u001b[0m\u001b[1;33m(\u001b[0m\u001b[0mcarreTemperatures\u001b[0m\u001b[1;33m)\u001b[0m\u001b[1;33m\u001b[0m\u001b[1;33m\u001b[0m\u001b[0m\n\u001b[0m",
      "\u001b[1;31mStopIteration\u001b[0m: "
     ]
    }
   ],
   "source": [
    "# Accède à la valeur suivante du générateur jusqu'à l'erreur StopIteration\n",
    "next(carreTemperatures)"
   ]
  },
  {
   "cell_type": "code",
   "execution_count": 67,
   "metadata": {},
   "outputs": [
    {
     "data": {
      "text/plain": [
       "0"
      ]
     },
     "execution_count": 67,
     "metadata": {},
     "output_type": "execute_result"
    }
   ],
   "source": [
    "# Un générateur est \"one-shot\", on peut le parcourir une seule fois\n",
    "sum(carreTemperatures)"
   ]
  },
  {
   "cell_type": "code",
   "execution_count": 69,
   "metadata": {},
   "outputs": [
    {
     "data": {
      "text/plain": [
       "505.19166666666666"
      ]
     },
     "execution_count": 69,
     "metadata": {},
     "output_type": "execute_result"
    }
   ],
   "source": [
    "# solution au coût mémoire minimal avec générateur\n",
    "tempCarreMoyenne = st.mean(t**2 for t in temperatures)\n",
    "tempCarreMoyenne"
   ]
  },
  {
   "cell_type": "code",
   "execution_count": 72,
   "metadata": {},
   "outputs": [
    {
     "data": {
      "text/plain": [
       "3531.1499999999996"
      ]
     },
     "execution_count": 72,
     "metadata": {},
     "output_type": "execute_result"
    }
   ],
   "source": [
    "# a generator expression must be parenthesized when not sole parameter\n",
    "# => SyntaxError: Generator expression must be parenthesized\n",
    "sum((t**2 for t in temperatures), 500)"
   ]
  },
  {
   "cell_type": "code",
   "execution_count": null,
   "metadata": {},
   "outputs": [],
   "source": [
    "# somme des températures positives"
   ]
  },
  {
   "cell_type": "code",
   "execution_count": 73,
   "metadata": {},
   "outputs": [
    {
     "data": {
      "text/plain": [
       "[25.6, 14.2, 29.3, 35.4, 7.5]"
      ]
     },
     "execution_count": 73,
     "metadata": {},
     "output_type": "execute_result"
    }
   ],
   "source": [
    "[ t for t in temperatures if t > 0]"
   ]
  },
  {
   "cell_type": "code",
   "execution_count": 74,
   "metadata": {},
   "outputs": [
    {
     "data": {
      "text/plain": [
       "112.0"
      ]
     },
     "execution_count": 74,
     "metadata": {},
     "output_type": "execute_result"
    }
   ],
   "source": [
    "s = sum(t for t in temperatures if t > 0)\n",
    "s"
   ]
  },
  {
   "cell_type": "code",
   "execution_count": 75,
   "metadata": {},
   "outputs": [
    {
     "data": {
      "text/plain": [
       "3024.9"
      ]
     },
     "execution_count": 75,
     "metadata": {},
     "output_type": "execute_result"
    }
   ],
   "source": [
    "s2 = sum(t**2 for t in temperatures if t > 0)\n",
    "s2"
   ]
  },
  {
   "cell_type": "code",
   "execution_count": 84,
   "metadata": {},
   "outputs": [
    {
     "name": "stdout",
     "output_type": "stream",
     "text": [
      "505.19166666666666, 112.0, 3024.9\n"
     ]
    }
   ],
   "source": [
    "# appel de print en changeant la valeur par défaut d'un paramètre optionnel\n",
    "# passage des paramètres tempCarreMoyenne, s et s2 par position\n",
    "# passage du paramètre sep est effectué par keyword\n",
    "print(tempCarreMoyenne, s,s2, sep=', ')"
   ]
  },
  {
   "cell_type": "code",
   "execution_count": 82,
   "metadata": {},
   "outputs": [
    {
     "name": "stdout",
     "output_type": "stream",
     "text": [
      "25.6, 14.2, 29.3, 35.4, -2.5, 7.5, "
     ]
    }
   ],
   "source": [
    "for t in temperatures:\n",
    "    print(t, end=', ')"
   ]
  },
  {
   "cell_type": "code",
   "execution_count": 85,
   "metadata": {},
   "outputs": [
    {
     "name": "stdout",
     "output_type": "stream",
     "text": [
      "21 15 6\n",
      "15 6 3\n",
      "6 3 0\n"
     ]
    },
    {
     "data": {
      "text/plain": [
       "3"
      ]
     },
     "execution_count": 85,
     "metadata": {},
     "output_type": "execute_result"
    }
   ],
   "source": [
    "# 21 et 15 sont passés en paramètres par position, resp. vers a et b\n",
    "pgcd(21, 15)"
   ]
  },
  {
   "cell_type": "code",
   "execution_count": 86,
   "metadata": {},
   "outputs": [
    {
     "name": "stdout",
     "output_type": "stream",
     "text": [
      "21 15 6\n",
      "15 6 3\n",
      "6 3 0\n"
     ]
    },
    {
     "data": {
      "text/plain": [
       "3"
      ]
     },
     "execution_count": 86,
     "metadata": {},
     "output_type": "execute_result"
    }
   ],
   "source": [
    "# 21 et 15 sont passés en paramètres par keyword, resp. vers a et b\n",
    "pgcd(a=21, b=15)"
   ]
  },
  {
   "cell_type": "markdown",
   "metadata": {},
   "source": [
    "## Définition de fonction"
   ]
  },
  {
   "cell_type": "code",
   "execution_count": 46,
   "metadata": {},
   "outputs": [],
   "source": [
    "def pgcd(a, b):\n",
    "    \"\"\"calcule le plus grand commun diviseur de deux nombres entiers naturels a et b\n",
    "    retourne le pgcd calculé\n",
    "    \"\"\"\n",
    "    while b != 0:\n",
    "        r = a % b\n",
    "        print(a,b,r)\n",
    "        a, b = b, r\n",
    "    return a\n",
    "# en fin de fonction les paramètres et variables de cette fonction sont supprimés de la mémoire\n",
    "# seule subsiste la valeur de retour de la fonction"
   ]
  },
  {
   "cell_type": "code",
   "execution_count": 42,
   "metadata": {},
   "outputs": [
    {
     "data": {
      "text/plain": [
       "3"
      ]
     },
     "execution_count": 42,
     "metadata": {},
     "output_type": "execute_result"
    }
   ],
   "source": [
    "p = pgcd(21,15)\n",
    "p"
   ]
  },
  {
   "cell_type": "code",
   "execution_count": 43,
   "metadata": {},
   "outputs": [
    {
     "data": {
      "text/plain": [
       "int"
      ]
     },
     "execution_count": 43,
     "metadata": {},
     "output_type": "execute_result"
    }
   ],
   "source": [
    "type(p)"
   ]
  },
  {
   "cell_type": "code",
   "execution_count": 44,
   "metadata": {},
   "outputs": [
    {
     "data": {
      "text/plain": [
       "False"
      ]
     },
     "execution_count": 44,
     "metadata": {},
     "output_type": "execute_result"
    }
   ],
   "source": [
    "p is None"
   ]
  },
  {
   "cell_type": "code",
   "execution_count": 47,
   "metadata": {},
   "outputs": [
    {
     "name": "stdout",
     "output_type": "stream",
     "text": [
      "21 15 6\n",
      "15 6 3\n",
      "6 3 0\n",
      "Le pgcd de 21 et 15 est 3\n"
     ]
    }
   ],
   "source": [
    "a = 21\n",
    "b = 15\n",
    "# on passe les valeurs des variables a et b à la fonction pgcd\n",
    "# ces valeurs sont recopiées dans les paramètres a et b de cette fonction\n",
    "p = pgcd(a, b)\n",
    "print(\"Le pgcd de\", a, \"et\", b, \"est\", p)"
   ]
  },
  {
   "cell_type": "code",
   "execution_count": 50,
   "metadata": {},
   "outputs": [
    {
     "name": "stdout",
     "output_type": "stream",
     "text": [
      "35 21 14\n",
      "21 14 7\n",
      "14 7 0\n",
      "Le pgcd de 35 et 21 est 7\n"
     ]
    }
   ],
   "source": [
    "x = 35\n",
    "y = 21\n",
    "p = pgcd(x, y)\n",
    "print(\"Le pgcd de\", x, \"et\", y, \"est\", p)"
   ]
  },
  {
   "cell_type": "code",
   "execution_count": 89,
   "metadata": {},
   "outputs": [],
   "source": [
    "def conversion(nb10, base=2):\n",
    "    res = \"\"\n",
    "    while nb10 != 0:\n",
    "        digit = nb10 % base\n",
    "        nb10 = nb10 // base\n",
    "        res = str(digit) + \".\" + res\n",
    "    return res"
   ]
  },
  {
   "cell_type": "code",
   "execution_count": 90,
   "metadata": {},
   "outputs": [
    {
     "data": {
      "text/plain": [
       "'1.1.1.1.1.0.1.'"
      ]
     },
     "execution_count": 90,
     "metadata": {},
     "output_type": "execute_result"
    }
   ],
   "source": [
    "conversion(125)"
   ]
  },
  {
   "cell_type": "code",
   "execution_count": 91,
   "metadata": {},
   "outputs": [
    {
     "data": {
      "text/plain": [
       "'1.7.5.'"
      ]
     },
     "execution_count": 91,
     "metadata": {},
     "output_type": "execute_result"
    }
   ],
   "source": [
    "# base optionnelle est fournie par position\n",
    "conversion(125, 8)"
   ]
  },
  {
   "cell_type": "code",
   "execution_count": 92,
   "metadata": {},
   "outputs": [
    {
     "data": {
      "text/plain": [
       "'7.13.'"
      ]
     },
     "execution_count": 92,
     "metadata": {},
     "output_type": "execute_result"
    }
   ],
   "source": [
    "# base optionnelle est fournie par keyword\n",
    "conversion(125, base=16)"
   ]
  },
  {
   "cell_type": "code",
   "execution_count": 101,
   "metadata": {},
   "outputs": [],
   "source": [
    "def conversionN(*nb10, base=2):\n",
    "    # print(type(nb10)) => tuple\n",
    "    return [ conversion(n, base) for n in nb10 ]\n",
    "    "
   ]
  },
  {
   "cell_type": "code",
   "execution_count": 102,
   "metadata": {},
   "outputs": [
    {
     "data": {
      "text/plain": [
       "['1.1.1.1.1.0.1.', '1.1.0.0.0.', '1.0.0.0.0.0.0.0.0.0.0.']"
      ]
     },
     "execution_count": 102,
     "metadata": {},
     "output_type": "execute_result"
    }
   ],
   "source": [
    "conversionN(125, 24, 1024)"
   ]
  },
  {
   "cell_type": "code",
   "execution_count": 103,
   "metadata": {},
   "outputs": [
    {
     "data": {
      "text/plain": [
       "['1.7.5.', '3.0.', '2.0.0.0.']"
      ]
     },
     "execution_count": 103,
     "metadata": {},
     "output_type": "execute_result"
    }
   ],
   "source": [
    "conversionN(125, 24, 1024, base=8)"
   ]
  },
  {
   "cell_type": "code",
   "execution_count": 107,
   "metadata": {},
   "outputs": [
    {
     "data": {
      "text/plain": [
       "range(0, 10)"
      ]
     },
     "execution_count": 107,
     "metadata": {},
     "output_type": "execute_result"
    }
   ],
   "source": [
    "range(10)"
   ]
  },
  {
   "cell_type": "code",
   "execution_count": 108,
   "metadata": {},
   "outputs": [
    {
     "data": {
      "text/plain": [
       "range(1, 10)"
      ]
     },
     "execution_count": 108,
     "metadata": {},
     "output_type": "execute_result"
    }
   ],
   "source": [
    "range(1,10)"
   ]
  },
  {
   "cell_type": "code",
   "execution_count": 109,
   "metadata": {},
   "outputs": [
    {
     "data": {
      "text/plain": [
       "range(1, 10, 2)"
      ]
     },
     "execution_count": 109,
     "metadata": {},
     "output_type": "execute_result"
    }
   ],
   "source": [
    "range(1,10,2)"
   ]
  },
  {
   "cell_type": "code",
   "execution_count": 112,
   "metadata": {},
   "outputs": [
    {
     "name": "stdout",
     "output_type": "stream",
     "text": [
      "0, 1, 2, 3, 4, 5, 6, 7, 8, 9, "
     ]
    }
   ],
   "source": [
    "for i in range(10):\n",
    "    print(i, end=', ')"
   ]
  },
  {
   "cell_type": "code",
   "execution_count": 111,
   "metadata": {},
   "outputs": [
    {
     "name": "stdout",
     "output_type": "stream",
     "text": [
      "25.6, 14.2, 29.3, 35.4, -2.5, 7.5, "
     ]
    }
   ],
   "source": [
    "for t in temperatures:\n",
    "    print(t, end=', ')"
   ]
  },
  {
   "cell_type": "code",
   "execution_count": 116,
   "metadata": {},
   "outputs": [
    {
     "name": "stdout",
     "output_type": "stream",
     "text": [
      "0 -> 25.6\n",
      "1 -> 14.2\n",
      "2 -> 29.3\n",
      "3 -> 35.4\n",
      "4 -> -2.5\n",
      "5 -> 7.5\n"
     ]
    }
   ],
   "source": [
    "# approche autre langage traditionnel\n",
    "for i in range(len(temperatures)):\n",
    "    t = temperatures[i]\n",
    "    print(i, t, sep=' -> ')\n"
   ]
  },
  {
   "cell_type": "code",
   "execution_count": 117,
   "metadata": {},
   "outputs": [
    {
     "name": "stdout",
     "output_type": "stream",
     "text": [
      "0 -> 25.6\n",
      "1 -> 14.2\n",
      "2 -> 29.3\n",
      "3 -> 35.4\n",
      "4 -> -2.5\n",
      "5 -> 7.5\n"
     ]
    }
   ],
   "source": [
    "# approche python\n",
    "for i,t in enumerate(temperatures):\n",
    "    print(i, t, sep=' -> ')"
   ]
  },
  {
   "cell_type": "code",
   "execution_count": 120,
   "metadata": {},
   "outputs": [
    {
     "name": "stdout",
     "output_type": "stream",
     "text": [
      "1 -> 25.6\n",
      "2 -> 14.2\n",
      "3 -> 29.3\n",
      "4 -> 35.4\n",
      "5 -> -2.5\n",
      "6 -> 7.5\n"
     ]
    }
   ],
   "source": [
    "for i,t in enumerate(temperatures, start=1):\n",
    "    print(i, t, sep=' -> ')"
   ]
  },
  {
   "cell_type": "code",
   "execution_count": 121,
   "metadata": {},
   "outputs": [
    {
     "data": {
      "text/plain": [
       "<enumerate at 0x242af2d3ae8>"
      ]
     },
     "execution_count": 121,
     "metadata": {},
     "output_type": "execute_result"
    }
   ],
   "source": [
    "enumerate(temperatures,1)"
   ]
  },
  {
   "cell_type": "code",
   "execution_count": 124,
   "metadata": {},
   "outputs": [
    {
     "data": {
      "text/plain": [
       "[0, 1, 2, 3, 4, 5, 6, 7, 8, 9]"
      ]
     },
     "execution_count": 124,
     "metadata": {},
     "output_type": "execute_result"
    }
   ],
   "source": [
    "list(range(10))"
   ]
  },
  {
   "cell_type": "code",
   "execution_count": 127,
   "metadata": {},
   "outputs": [
    {
     "data": {
      "text/plain": [
       "[(1, 25.6), (2, 14.2), (3, 29.3), (4, 35.4), (5, -2.5), (6, 7.5)]"
      ]
     },
     "execution_count": 127,
     "metadata": {},
     "output_type": "execute_result"
    }
   ],
   "source": [
    "list(enumerate(temperatures,1))"
   ]
  },
  {
   "cell_type": "code",
   "execution_count": 130,
   "metadata": {},
   "outputs": [
    {
     "data": {
      "text/plain": [
       "'25.6, 14.2, 29.3, 35.4, -2.5, 7.5'"
      ]
     },
     "execution_count": 130,
     "metadata": {},
     "output_type": "execute_result"
    }
   ],
   "source": [
    "# code de concaténation de n valeurs, catastrophique en coût mémoire\n",
    "res = \"\"\n",
    "sep = ', '\n",
    "if len(temperatures)>0:\n",
    "    res = str(temperatures[0])\n",
    "for t in temperatures[1:]:\n",
    "    res = res + sep + str(t)\n",
    "res"
   ]
  },
  {
   "cell_type": "code",
   "execution_count": 132,
   "metadata": {},
   "outputs": [
    {
     "data": {
      "text/plain": [
       "'25.6, 14.2, 29.3, 35.4, -2.5, 7.5'"
      ]
     },
     "execution_count": 132,
     "metadata": {},
     "output_type": "execute_result"
    }
   ],
   "source": [
    "texte = sep.join(str(t) for t in temperatures)\n",
    "texte"
   ]
  },
  {
   "cell_type": "code",
   "execution_count": 138,
   "metadata": {},
   "outputs": [
    {
     "data": {
      "text/plain": [
       "109.80000000000001"
      ]
     },
     "execution_count": 138,
     "metadata": {},
     "output_type": "execute_result"
    }
   ],
   "source": [
    "sum(temperatures,0.1*3)"
   ]
  },
  {
   "cell_type": "code",
   "execution_count": 146,
   "metadata": {},
   "outputs": [
    {
     "name": "stdout",
     "output_type": "stream",
     "text": [
      "21 15 6\n",
      "15 6 3\n",
      "6 3 0\n"
     ]
    },
    {
     "data": {
      "text/plain": [
       "'Le pgcd de 22 et 15 est 3'"
      ]
     },
     "execution_count": 146,
     "metadata": {},
     "output_type": "execute_result"
    }
   ],
   "source": [
    "a = 21\n",
    "b = 15\n",
    "p = pgcd(a,b)\n",
    "# texte = \"Le pgcd de \" + str(a) + \" et \" + str(b) + \" est \" + str(p)\n",
    "# En python ancien (deprecated)\n",
    "# texte = \"Le pgcd de %s et %s est %s\" % (a,b,p)\n",
    "# En python 3, forme complète\n",
    "# texte = \"Le pgcd de {} et {} est {}\".format(a,b,p)\n",
    "# simplification à partir de python 3.6\n",
    "texte = f\"Le pgcd de {a} et {b} est {p}\"\n",
    "texte"
   ]
  },
  {
   "cell_type": "code",
   "execution_count": 151,
   "metadata": {},
   "outputs": [
    {
     "data": {
      "text/plain": [
       "19.166666666666668"
      ]
     },
     "execution_count": 151,
     "metadata": {},
     "output_type": "execute_result"
    }
   ],
   "source": [
    "temperatures = [25.3, 12.4, 16.7, 17.2, 25.3, 18.1 ]\n",
    "tempMoyenne = st.mean(temperatures)\n",
    "tempMoyenne"
   ]
  },
  {
   "cell_type": "markdown",
   "metadata": {},
   "source": [
    "Documentation des formats : https://docs.python.org/3.7/library/string.html#formatstrings"
   ]
  },
  {
   "cell_type": "code",
   "execution_count": 154,
   "metadata": {},
   "outputs": [
    {
     "data": {
      "text/plain": [
       "'moyenne = 19.17'"
      ]
     },
     "execution_count": 154,
     "metadata": {},
     "output_type": "execute_result"
    }
   ],
   "source": [
    "texte = f\"moyenne = {tempMoyenne:.2f}\"\n",
    "texte"
   ]
  },
  {
   "cell_type": "code",
   "execution_count": 157,
   "metadata": {},
   "outputs": [
    {
     "data": {
      "text/plain": [
       "'moyenne = 19.17'"
      ]
     },
     "execution_count": 157,
     "metadata": {},
     "output_type": "execute_result"
    }
   ],
   "source": [
    "#texte = \"moyenne = {0:.2f}\".format(tempMoyenne)\n",
    "texte = \"moyenne = {:.2f}\".format(tempMoyenne)\n",
    "texte"
   ]
  },
  {
   "cell_type": "code",
   "execution_count": null,
   "metadata": {},
   "outputs": [],
   "source": []
  }
 ],
 "metadata": {
  "kernelspec": {
   "display_name": "Python 3",
   "language": "python",
   "name": "python3"
  },
  "language_info": {
   "codemirror_mode": {
    "name": "ipython",
    "version": 3
   },
   "file_extension": ".py",
   "mimetype": "text/x-python",
   "name": "python",
   "nbconvert_exporter": "python",
   "pygments_lexer": "ipython3",
   "version": "3.7.4"
  }
 },
 "nbformat": 4,
 "nbformat_minor": 2
}
