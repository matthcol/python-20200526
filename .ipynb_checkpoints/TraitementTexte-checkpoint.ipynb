{
 "cells": [
  {
   "cell_type": "markdown",
   "metadata": {},
   "source": [
    "# Traitement de texte"
   ]
  },
  {
   "cell_type": "code",
   "execution_count": 1,
   "metadata": {},
   "outputs": [],
   "source": [
    "import locale"
   ]
  },
  {
   "cell_type": "code",
   "execution_count": 2,
   "metadata": {},
   "outputs": [],
   "source": [
    "villes = ['Toulouse', 'Pau', 'Perpignan', 'Rodez', 'Montpellier', 'Paris', 'Mont-de-Marsan', \n",
    "          'Los Angeles', 'New York']"
   ]
  },
  {
   "cell_type": "code",
   "execution_count": 3,
   "metadata": {},
   "outputs": [
    {
     "data": {
      "text/plain": [
       "['Montpellier', 'Mont-de-Marsan']"
      ]
     },
     "execution_count": 3,
     "metadata": {},
     "output_type": "execute_result"
    }
   ],
   "source": [
    "[ v for v in villes if 'on' in v]"
   ]
  },
  {
   "cell_type": "code",
   "execution_count": 4,
   "metadata": {},
   "outputs": [
    {
     "data": {
      "text/plain": [
       "['Pau', 'Perpignan', 'Paris']"
      ]
     },
     "execution_count": 4,
     "metadata": {},
     "output_type": "execute_result"
    }
   ],
   "source": [
    "[ v for v in villes if v[0] == 'P' ]"
   ]
  },
  {
   "cell_type": "code",
   "execution_count": 5,
   "metadata": {},
   "outputs": [
    {
     "data": {
      "text/plain": [
       "['Pau', 'Paris']"
      ]
     },
     "execution_count": 5,
     "metadata": {},
     "output_type": "execute_result"
    }
   ],
   "source": [
    "[ v for v in villes if v[:2] == 'Pa' ]"
   ]
  },
  {
   "cell_type": "code",
   "execution_count": 6,
   "metadata": {},
   "outputs": [
    {
     "data": {
      "text/plain": [
       "['Pau', 'Paris']"
      ]
     },
     "execution_count": 6,
     "metadata": {},
     "output_type": "execute_result"
    }
   ],
   "source": [
    "[ v for v in villes if v.startswith('Pa') ]"
   ]
  },
  {
   "cell_type": "code",
   "execution_count": 7,
   "metadata": {},
   "outputs": [
    {
     "data": {
      "text/plain": [
       "['Perpignan', 'Mont-de-Marsan']"
      ]
     },
     "execution_count": 7,
     "metadata": {},
     "output_type": "execute_result"
    }
   ],
   "source": [
    "[ v for v in villes if v.endswith('an') ]"
   ]
  },
  {
   "cell_type": "code",
   "execution_count": 8,
   "metadata": {},
   "outputs": [
    {
     "data": {
      "text/plain": [
       "['Toulouse',\n",
       " 'Pau',\n",
       " 'Perpignan',\n",
       " 'Rodez',\n",
       " 'Montpellier',\n",
       " 'Paris',\n",
       " 'Mont-de-Marsan',\n",
       " 'Los Angeles',\n",
       " 'New York',\n",
       " 'bayonne',\n",
       " 'Biarritz',\n",
       " 'belgrade']"
      ]
     },
     "execution_count": 8,
     "metadata": {},
     "output_type": "execute_result"
    }
   ],
   "source": [
    "villes.extend(['bayonne', 'Biarritz', 'belgrade'])\n",
    "villes"
   ]
  },
  {
   "cell_type": "code",
   "execution_count": 9,
   "metadata": {},
   "outputs": [
    {
     "data": {
      "text/plain": [
       "['Biarritz']"
      ]
     },
     "execution_count": 9,
     "metadata": {},
     "output_type": "execute_result"
    }
   ],
   "source": [
    "[ v for v in villes if v.startswith('B') ]"
   ]
  },
  {
   "cell_type": "code",
   "execution_count": 10,
   "metadata": {},
   "outputs": [],
   "source": [
    "v = 'Biarritz'"
   ]
  },
  {
   "cell_type": "code",
   "execution_count": 11,
   "metadata": {},
   "outputs": [
    {
     "data": {
      "text/plain": [
       "'biarritz'"
      ]
     },
     "execution_count": 11,
     "metadata": {},
     "output_type": "execute_result"
    }
   ],
   "source": [
    "v.lower()"
   ]
  },
  {
   "cell_type": "code",
   "execution_count": 12,
   "metadata": {},
   "outputs": [
    {
     "data": {
      "text/plain": [
       "'BIARRITZ'"
      ]
     },
     "execution_count": 12,
     "metadata": {},
     "output_type": "execute_result"
    }
   ],
   "source": [
    "v.upper()"
   ]
  },
  {
   "cell_type": "code",
   "execution_count": 13,
   "metadata": {},
   "outputs": [],
   "source": [
    "titre = 'once upon a time in hollywood'"
   ]
  },
  {
   "cell_type": "code",
   "execution_count": 14,
   "metadata": {},
   "outputs": [
    {
     "data": {
      "text/plain": [
       "'Once Upon A Time In Hollywood'"
      ]
     },
     "execution_count": 14,
     "metadata": {},
     "output_type": "execute_result"
    }
   ],
   "source": [
    "titre.title()"
   ]
  },
  {
   "cell_type": "code",
   "execution_count": 15,
   "metadata": {},
   "outputs": [
    {
     "data": {
      "text/plain": [
       "'Once upon a time in hollywood'"
      ]
     },
     "execution_count": 15,
     "metadata": {},
     "output_type": "execute_result"
    }
   ],
   "source": [
    "titre.capitalize()"
   ]
  },
  {
   "cell_type": "code",
   "execution_count": 16,
   "metadata": {},
   "outputs": [],
   "source": [
    "motAllemand = 'Straße'"
   ]
  },
  {
   "cell_type": "code",
   "execution_count": 17,
   "metadata": {},
   "outputs": [
    {
     "data": {
      "text/plain": [
       "'STRASSE'"
      ]
     },
     "execution_count": 17,
     "metadata": {},
     "output_type": "execute_result"
    }
   ],
   "source": [
    "motAllemand.upper()"
   ]
  },
  {
   "cell_type": "code",
   "execution_count": 18,
   "metadata": {},
   "outputs": [
    {
     "data": {
      "text/plain": [
       "'strasse'"
      ]
     },
     "execution_count": 18,
     "metadata": {},
     "output_type": "execute_result"
    }
   ],
   "source": [
    "motAllemand.upper().lower()"
   ]
  },
  {
   "cell_type": "code",
   "execution_count": 19,
   "metadata": {},
   "outputs": [
    {
     "data": {
      "text/plain": [
       "False"
      ]
     },
     "execution_count": 19,
     "metadata": {},
     "output_type": "execute_result"
    }
   ],
   "source": [
    "motAllemand.upper().lower() == motAllemand"
   ]
  },
  {
   "cell_type": "code",
   "execution_count": 20,
   "metadata": {},
   "outputs": [
    {
     "data": {
      "text/plain": [
       "True"
      ]
     },
     "execution_count": 20,
     "metadata": {},
     "output_type": "execute_result"
    }
   ],
   "source": [
    "motAllemand.casefold() == motAllemand.upper().casefold()"
   ]
  },
  {
   "cell_type": "code",
   "execution_count": 21,
   "metadata": {},
   "outputs": [
    {
     "data": {
      "text/plain": [
       "'東京'"
      ]
     },
     "execution_count": 21,
     "metadata": {},
     "output_type": "execute_result"
    }
   ],
   "source": [
    "ville = '東京'\n",
    "ville"
   ]
  },
  {
   "cell_type": "code",
   "execution_count": 22,
   "metadata": {},
   "outputs": [
    {
     "data": {
      "text/plain": [
       "'東京'"
      ]
     },
     "execution_count": 22,
     "metadata": {},
     "output_type": "execute_result"
    }
   ],
   "source": [
    "ville.upper()"
   ]
  },
  {
   "cell_type": "code",
   "execution_count": 23,
   "metadata": {},
   "outputs": [
    {
     "data": {
      "text/plain": [
       "'Москва'"
      ]
     },
     "execution_count": 23,
     "metadata": {},
     "output_type": "execute_result"
    }
   ],
   "source": [
    "villeM = 'Москва'\n",
    "villeM"
   ]
  },
  {
   "cell_type": "code",
   "execution_count": 24,
   "metadata": {},
   "outputs": [
    {
     "data": {
      "text/plain": [
       "False"
      ]
     },
     "execution_count": 24,
     "metadata": {},
     "output_type": "execute_result"
    }
   ],
   "source": [
    "villeM[-1] == 'a'"
   ]
  },
  {
   "cell_type": "code",
   "execution_count": 25,
   "metadata": {},
   "outputs": [
    {
     "data": {
      "text/plain": [
       "False"
      ]
     },
     "execution_count": 25,
     "metadata": {},
     "output_type": "execute_result"
    }
   ],
   "source": [
    "# le а cyrillique est différent du a latin\n",
    "'а' == 'a'"
   ]
  },
  {
   "cell_type": "code",
   "execution_count": 26,
   "metadata": {},
   "outputs": [
    {
     "data": {
      "text/plain": [
       "['Toulouse',\n",
       " 'Pau',\n",
       " 'Perpignan',\n",
       " 'Rodez',\n",
       " 'Montpellier',\n",
       " 'Paris',\n",
       " 'Mont-de-Marsan',\n",
       " 'Los Angeles',\n",
       " 'New York',\n",
       " 'bayonne',\n",
       " 'Biarritz',\n",
       " 'belgrade']"
      ]
     },
     "execution_count": 26,
     "metadata": {},
     "output_type": "execute_result"
    }
   ],
   "source": [
    "villes"
   ]
  },
  {
   "cell_type": "code",
   "execution_count": 27,
   "metadata": {},
   "outputs": [
    {
     "data": {
      "text/plain": [
       "['Biarritz',\n",
       " 'Los Angeles',\n",
       " 'Mont-de-Marsan',\n",
       " 'Montpellier',\n",
       " 'New York',\n",
       " 'Paris',\n",
       " 'Pau',\n",
       " 'Perpignan',\n",
       " 'Rodez',\n",
       " 'Toulouse',\n",
       " 'bayonne',\n",
       " 'belgrade']"
      ]
     },
     "execution_count": 27,
     "metadata": {},
     "output_type": "execute_result"
    }
   ],
   "source": [
    "# built-in fonction sorted produit une nouvelle liste\n",
    "villesSorted = sorted(villes)\n",
    "villesSorted"
   ]
  },
  {
   "cell_type": "code",
   "execution_count": 28,
   "metadata": {},
   "outputs": [],
   "source": [
    "villes.sort()"
   ]
  },
  {
   "cell_type": "code",
   "execution_count": 29,
   "metadata": {},
   "outputs": [
    {
     "data": {
      "text/plain": [
       "['Biarritz',\n",
       " 'Los Angeles',\n",
       " 'Mont-de-Marsan',\n",
       " 'Montpellier',\n",
       " 'New York',\n",
       " 'Paris',\n",
       " 'Pau',\n",
       " 'Perpignan',\n",
       " 'Rodez',\n",
       " 'Toulouse',\n",
       " 'bayonne',\n",
       " 'belgrade']"
      ]
     },
     "execution_count": 29,
     "metadata": {},
     "output_type": "execute_result"
    }
   ],
   "source": [
    "villes"
   ]
  },
  {
   "cell_type": "code",
   "execution_count": 30,
   "metadata": {},
   "outputs": [
    {
     "data": {
      "text/plain": [
       "['belgrade',\n",
       " 'bayonne',\n",
       " 'Toulouse',\n",
       " 'Rodez',\n",
       " 'Perpignan',\n",
       " 'Pau',\n",
       " 'Paris',\n",
       " 'New York',\n",
       " 'Montpellier',\n",
       " 'Mont-de-Marsan',\n",
       " 'Los Angeles',\n",
       " 'Biarritz']"
      ]
     },
     "execution_count": 30,
     "metadata": {},
     "output_type": "execute_result"
    }
   ],
   "source": [
    "sorted(villes, reverse=True)"
   ]
  },
  {
   "cell_type": "code",
   "execution_count": 31,
   "metadata": {},
   "outputs": [
    {
     "data": {
      "text/plain": [
       "['bayonne',\n",
       " 'belgrade',\n",
       " 'Biarritz',\n",
       " 'Los Angeles',\n",
       " 'Mont-de-Marsan',\n",
       " 'Montpellier',\n",
       " 'New York',\n",
       " 'Paris',\n",
       " 'Pau',\n",
       " 'Perpignan',\n",
       " 'Rodez',\n",
       " 'Toulouse']"
      ]
     },
     "execution_count": 31,
     "metadata": {},
     "output_type": "execute_result"
    }
   ],
   "source": [
    "sorted(villes, key=str.casefold)"
   ]
  },
  {
   "cell_type": "code",
   "execution_count": 32,
   "metadata": {},
   "outputs": [
    {
     "data": {
      "text/plain": [
       "['Toulouse',\n",
       " 'Rodez',\n",
       " 'Perpignan',\n",
       " 'Pau',\n",
       " 'Paris',\n",
       " 'New York',\n",
       " 'Montpellier',\n",
       " 'Mont-de-Marsan',\n",
       " 'Los Angeles',\n",
       " 'Biarritz',\n",
       " 'belgrade',\n",
       " 'bayonne']"
      ]
     },
     "execution_count": 32,
     "metadata": {},
     "output_type": "execute_result"
    }
   ],
   "source": [
    "sorted(villes, key=str.casefold, reverse=True)"
   ]
  },
  {
   "cell_type": "code",
   "execution_count": 33,
   "metadata": {},
   "outputs": [
    {
     "data": {
      "text/plain": [
       "['Biarritz',\n",
       " 'Los Angeles',\n",
       " 'Mont-de-Marsan',\n",
       " 'Montpellier',\n",
       " 'New York',\n",
       " 'Paris',\n",
       " 'Pau',\n",
       " 'Perpignan',\n",
       " 'Rodez',\n",
       " 'Toulouse',\n",
       " 'bayonne',\n",
       " 'belgrade',\n",
       " '東京',\n",
       " 'Москва']"
      ]
     },
     "execution_count": 33,
     "metadata": {},
     "output_type": "execute_result"
    }
   ],
   "source": [
    "villes.append(ville)\n",
    "villes.append(villeM)\n",
    "villes"
   ]
  },
  {
   "cell_type": "code",
   "execution_count": 34,
   "metadata": {},
   "outputs": [
    {
     "data": {
      "text/plain": [
       "['bayonne',\n",
       " 'belgrade',\n",
       " 'Biarritz',\n",
       " 'Los Angeles',\n",
       " 'Mont-de-Marsan',\n",
       " 'Montpellier',\n",
       " 'New York',\n",
       " 'Paris',\n",
       " 'Pau',\n",
       " 'Perpignan',\n",
       " 'Rodez',\n",
       " 'Toulouse',\n",
       " 'Москва',\n",
       " '東京']"
      ]
     },
     "execution_count": 34,
     "metadata": {},
     "output_type": "execute_result"
    }
   ],
   "source": [
    "sorted(villes, key=str.casefold)"
   ]
  },
  {
   "cell_type": "code",
   "execution_count": 35,
   "metadata": {},
   "outputs": [
    {
     "name": "stdout",
     "output_type": "stream",
     "text": [
      "False\n",
      "-1\n",
      "-1\n",
      "1\n"
     ]
    }
   ],
   "source": [
    "# comparaison avec l'ordre des caractères\n",
    "# cf collation : FR : e é è ê ë à la même position (c/ç)\n",
    "# cf collation : ES : n < ñ\n",
    "print('été' < 'étuve')\n",
    "locale.setlocale(locale.LC_ALL,'fr_FR')\n",
    "print(locale.strcoll('été', 'étuve'))  # <0 : ordre croissant\n",
    "print(locale.strcoll('mañana', 'mano')) # <0 : ordre décroissant car ñ et n sont la même lettre en FR\n",
    "locale.setlocale(locale.LC_ALL,'es_ES')\n",
    "print(locale.strcoll('mañana', 'mano')) # >0 : ordre décroissant car ñ > n en espagnol"
   ]
  }
 ],
 "metadata": {
  "kernelspec": {
   "display_name": "Python 3",
   "language": "python",
   "name": "python3"
  },
  "language_info": {
   "codemirror_mode": {
    "name": "ipython",
    "version": 3
   },
   "file_extension": ".py",
   "mimetype": "text/x-python",
   "name": "python",
   "nbconvert_exporter": "python",
   "pygments_lexer": "ipython3",
   "version": "3.7.4"
  }
 },
 "nbformat": 4,
 "nbformat_minor": 2
}
