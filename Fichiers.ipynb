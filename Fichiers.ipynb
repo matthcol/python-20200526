{
 "cells": [
  {
   "cell_type": "markdown",
   "metadata": {},
   "source": [
    "# Gestion des fichiers"
   ]
  },
  {
   "cell_type": "code",
   "execution_count": 38,
   "metadata": {},
   "outputs": [],
   "source": [
    "from pathlib import Path\n",
    "# ligne suivante pour démo uniquement\n",
    "from pathlib import WindowsPath\n",
    "# old module : import os.path\n",
    "from datetime import datetime"
   ]
  },
  {
   "cell_type": "code",
   "execution_count": 5,
   "metadata": {},
   "outputs": [
    {
     "data": {
      "text/plain": [
       "WindowsPath('.')"
      ]
     },
     "execution_count": 5,
     "metadata": {},
     "output_type": "execute_result"
    }
   ],
   "source": [
    "currentDir = Path('.')\n",
    "currentDir"
   ]
  },
  {
   "cell_type": "code",
   "execution_count": 6,
   "metadata": {},
   "outputs": [
    {
     "data": {
      "text/plain": [
       "pathlib.WindowsPath"
      ]
     },
     "execution_count": 6,
     "metadata": {},
     "output_type": "execute_result"
    }
   ],
   "source": [
    "type(currentDir)"
   ]
  },
  {
   "cell_type": "code",
   "execution_count": 7,
   "metadata": {},
   "outputs": [
    {
     "data": {
      "text/plain": [
       "True"
      ]
     },
     "execution_count": 7,
     "metadata": {},
     "output_type": "execute_result"
    }
   ],
   "source": [
    "isinstance(currentDir, Path)"
   ]
  },
  {
   "cell_type": "code",
   "execution_count": 10,
   "metadata": {},
   "outputs": [
    {
     "data": {
      "text/plain": [
       "True"
      ]
     },
     "execution_count": 10,
     "metadata": {},
     "output_type": "execute_result"
    }
   ],
   "source": [
    "isinstance(currentDir, WindowsPath)"
   ]
  },
  {
   "cell_type": "code",
   "execution_count": 12,
   "metadata": {},
   "outputs": [
    {
     "data": {
      "text/plain": [
       "WindowsPath('C:/Users/Matthias/Documents/Python/Stage20200526')"
      ]
     },
     "execution_count": 12,
     "metadata": {},
     "output_type": "execute_result"
    }
   ],
   "source": [
    "currDirAbs = currentDir.absolute()\n",
    "currDirAbs"
   ]
  },
  {
   "cell_type": "code",
   "execution_count": 15,
   "metadata": {},
   "outputs": [
    {
     "name": "stdout",
     "output_type": "stream",
     "text": [
      "\taaa\n",
      "bbbb\n"
     ]
    }
   ],
   "source": [
    "print('\\taaa\\nbbbb')"
   ]
  },
  {
   "cell_type": "code",
   "execution_count": 16,
   "metadata": {},
   "outputs": [
    {
     "name": "stdout",
     "output_type": "stream",
     "text": [
      "C:\\Users\\Matthias\\Documents\\Python\\Stage20200526\n"
     ]
    }
   ],
   "source": [
    "print(currDirAbs)"
   ]
  },
  {
   "cell_type": "code",
   "execution_count": 20,
   "metadata": {},
   "outputs": [
    {
     "name": "stdout",
     "output_type": "stream",
     "text": [
      "C:\\Users\\Matthias\\Documents\\Java\n"
     ]
    },
    {
     "data": {
      "text/plain": [
       "WindowsPath('C:/Users/Matthias/Documents/Java')"
      ]
     },
     "execution_count": 20,
     "metadata": {},
     "output_type": "execute_result"
    }
   ],
   "source": [
    "javaDirTexte = 'C:\\\\Users\\\\Matthias\\\\Documents\\\\Java'\n",
    "print(javaDirTexte)\n",
    "javaDir = Path(javaDirTexte)\n",
    "javaDir"
   ]
  },
  {
   "cell_type": "code",
   "execution_count": 21,
   "metadata": {},
   "outputs": [
    {
     "name": "stdout",
     "output_type": "stream",
     "text": [
      "C:/Users/Matthias/Documents/Java\n"
     ]
    },
    {
     "data": {
      "text/plain": [
       "WindowsPath('C:/Users/Matthias/Documents/Java')"
      ]
     },
     "execution_count": 21,
     "metadata": {},
     "output_type": "execute_result"
    }
   ],
   "source": [
    "javaDirTexte = 'C:/Users/Matthias/Documents/Java'\n",
    "print(javaDirTexte)\n",
    "javaDir = Path(javaDirTexte)\n",
    "javaDir"
   ]
  },
  {
   "cell_type": "code",
   "execution_count": 23,
   "metadata": {},
   "outputs": [
    {
     "data": {
      "text/plain": [
       "WindowsPath('C:/Users/Matthias/Documents/Python/Stage20200526')"
      ]
     },
     "execution_count": 23,
     "metadata": {},
     "output_type": "execute_result"
    }
   ],
   "source": [
    "currDirAbs"
   ]
  },
  {
   "cell_type": "code",
   "execution_count": 22,
   "metadata": {},
   "outputs": [
    {
     "data": {
      "text/plain": [
       "WindowsPath('C:/Users/Matthias/Documents/Python')"
      ]
     },
     "execution_count": 22,
     "metadata": {},
     "output_type": "execute_result"
    }
   ],
   "source": [
    "currDirAbs.parent"
   ]
  },
  {
   "cell_type": "code",
   "execution_count": 25,
   "metadata": {},
   "outputs": [
    {
     "name": "stdout",
     "output_type": "stream",
     "text": [
      "C:\\Users\\Matthias\\Documents\\Python\n",
      "C:\\Users\\Matthias\\Documents\n",
      "C:\\Users\\Matthias\n",
      "C:\\Users\n",
      "C:\\\n"
     ]
    }
   ],
   "source": [
    "for d in currDirAbs.parents:\n",
    "    print(d)"
   ]
  },
  {
   "cell_type": "code",
   "execution_count": 26,
   "metadata": {},
   "outputs": [
    {
     "data": {
      "text/plain": [
       "True"
      ]
     },
     "execution_count": 26,
     "metadata": {},
     "output_type": "execute_result"
    }
   ],
   "source": [
    "currDirAbs.is_dir()"
   ]
  },
  {
   "cell_type": "code",
   "execution_count": 27,
   "metadata": {},
   "outputs": [
    {
     "data": {
      "text/plain": [
       "False"
      ]
     },
     "execution_count": 27,
     "metadata": {},
     "output_type": "execute_result"
    }
   ],
   "source": [
    "currDirAbs.is_file()"
   ]
  },
  {
   "cell_type": "code",
   "execution_count": 30,
   "metadata": {},
   "outputs": [
    {
     "name": "stdout",
     "output_type": "stream",
     "text": [
      "C:\\Users\\Matthias\\Documents\\Python\\Stage20200526\\.git True False\n",
      "C:\\Users\\Matthias\\Documents\\Python\\Stage20200526\\.ipynb_checkpoints True False\n",
      "C:\\Users\\Matthias\\Documents\\Python\\Stage20200526\\carremagic_ex.py False True\n",
      "C:\\Users\\Matthias\\Documents\\Python\\Stage20200526\\csv True False\n",
      "C:\\Users\\Matthias\\Documents\\Python\\Stage20200526\\DatetimeData.ipynb False True\n",
      "C:\\Users\\Matthias\\Documents\\Python\\Stage20200526\\Fonctions.ipynb False True\n",
      "C:\\Users\\Matthias\\Documents\\Python\\Stage20200526\\MagicSquare.ipynb False True\n",
      "C:\\Users\\Matthias\\Documents\\Python\\Stage20200526\\magiksquare.py False True\n",
      "C:\\Users\\Matthias\\Documents\\Python\\Stage20200526\\PremiersPas.ipynb False True\n",
      "C:\\Users\\Matthias\\Documents\\Python\\Stage20200526\\Python2020intro.pdf False True\n",
      "C:\\Users\\Matthias\\Documents\\Python\\Stage20200526\\Python2020intro.pptx False True\n",
      "C:\\Users\\Matthias\\Documents\\Python\\Stage20200526\\squaremagik.png False True\n",
      "C:\\Users\\Matthias\\Documents\\Python\\Stage20200526\\timezone-map.jpg False True\n",
      "C:\\Users\\Matthias\\Documents\\Python\\Stage20200526\\TraitementTexte.ipynb False True\n",
      "C:\\Users\\Matthias\\Documents\\Python\\Stage20200526\\Untitled.ipynb False True\n"
     ]
    }
   ],
   "source": [
    "for f in currDirAbs.iterdir():\n",
    "    print(f, f.is_dir(), f.is_file())"
   ]
  },
  {
   "cell_type": "code",
   "execution_count": 32,
   "metadata": {},
   "outputs": [
    {
     "data": {
      "text/plain": [
       "'Stage20200526'"
      ]
     },
     "execution_count": 32,
     "metadata": {},
     "output_type": "execute_result"
    }
   ],
   "source": [
    "currDirAbs.name"
   ]
  },
  {
   "cell_type": "code",
   "execution_count": 33,
   "metadata": {},
   "outputs": [
    {
     "data": {
      "text/plain": [
       "['carremagic_ex.py',\n",
       " 'DatetimeData.ipynb',\n",
       " 'Fonctions.ipynb',\n",
       " 'MagicSquare.ipynb',\n",
       " 'magiksquare.py',\n",
       " 'PremiersPas.ipynb',\n",
       " 'Python2020intro.pdf',\n",
       " 'Python2020intro.pptx',\n",
       " 'squaremagik.png',\n",
       " 'timezone-map.jpg',\n",
       " 'TraitementTexte.ipynb',\n",
       " 'Untitled.ipynb']"
      ]
     },
     "execution_count": 33,
     "metadata": {},
     "output_type": "execute_result"
    }
   ],
   "source": [
    "[ f.name for f in currDirAbs.iterdir() if f.is_file() ]"
   ]
  },
  {
   "cell_type": "code",
   "execution_count": 35,
   "metadata": {},
   "outputs": [
    {
     "data": {
      "text/plain": [
       "os.stat_result(st_mode=16895, st_ino=49258120924629243, st_dev=3053894559, st_nlink=1, st_uid=0, st_gid=0, st_size=4096, st_atime=1590668637, st_mtime=1590668637, st_ctime=1590475272)"
      ]
     },
     "execution_count": 35,
     "metadata": {},
     "output_type": "execute_result"
    }
   ],
   "source": [
    "currDirAbs.stat()"
   ]
  },
  {
   "cell_type": "code",
   "execution_count": 36,
   "metadata": {},
   "outputs": [
    {
     "data": {
      "text/plain": [
       "4096"
      ]
     },
     "execution_count": 36,
     "metadata": {},
     "output_type": "execute_result"
    }
   ],
   "source": [
    "currDirAbs.stat().st_size"
   ]
  },
  {
   "cell_type": "code",
   "execution_count": 40,
   "metadata": {},
   "outputs": [
    {
     "data": {
      "text/plain": [
       "datetime.datetime(2020, 5, 28, 14, 28, 13, 404245)"
      ]
     },
     "execution_count": 40,
     "metadata": {},
     "output_type": "execute_result"
    }
   ],
   "source": [
    "datetime.fromtimestamp(currDirAbs.stat().st_mtime)"
   ]
  },
  {
   "cell_type": "code",
   "execution_count": 44,
   "metadata": {
    "scrolled": true
   },
   "outputs": [
    {
     "name": "stdout",
     "output_type": "stream",
     "text": [
      ".git : 4096 : 4.0 : 2020-05-28 13:33:01.165568\n",
      ".ipynb_checkpoints : 4096 : 4.0 : 2020-05-28 13:35:56.698807\n",
      "carremagic_ex.py : 2504 : 2.4453125 : 2020-05-05 10:09:46.231998\n",
      "csv : 0 : 0.0 : 2020-05-28 13:31:59.731249\n",
      "DatetimeData.ipynb : 38848 : 37.9375 : 2020-05-28 12:47:29.050062\n",
      "Fonctions.ipynb : 24546 : 23.970703125 : 2020-05-27 14:52:23.851852\n",
      "MagicSquare.ipynb : 11619 : 11.3466796875 : 2020-05-27 16:57:50.639196\n",
      "magiksquare.py : 1954 : 1.908203125 : 2020-05-27 16:52:32.617095\n",
      "PremiersPas.ipynb : 69048 : 67.4296875 : 2020-05-27 08:53:56.661262\n",
      "Python2020intro.pdf : 526701 : 514.3564453125 : 2020-05-26 13:28:11.730926\n",
      "Python2020intro.pptx : 572686 : 559.263671875 : 2020-05-26 13:27:48.252712\n",
      "squaremagik.png : 16716 : 16.32421875 : 2020-05-27 22:34:14.347044\n",
      "timezone-map.jpg : 708955 : 692.3388671875 : 2019-07-29 09:18:52.197358\n",
      "TraitementTexte.ipynb : 14387 : 14.0498046875 : 2020-05-28 12:45:40.413826\n",
      "Untitled.ipynb : 11455 : 11.1865234375 : 2020-05-28 14:35:57.371187\n"
     ]
    }
   ],
   "source": [
    "for f in currDirAbs.iterdir():\n",
    "    stats = f.stat()\n",
    "    print(f.name, stats.st_size, stats.st_size/1024, datetime.fromtimestamp(stats.st_mtime), sep=' : ')"
   ]
  },
  {
   "cell_type": "code",
   "execution_count": 45,
   "metadata": {},
   "outputs": [
    {
     "name": "stdout",
     "output_type": "stream",
     "text": [
      "1000 1024\n"
     ]
    }
   ],
   "source": [
    "print(10**3, 2**10)"
   ]
  },
  {
   "cell_type": "code",
   "execution_count": 47,
   "metadata": {},
   "outputs": [
    {
     "name": "stdout",
     "output_type": "stream",
     "text": [
      "K 1000 1024\n",
      "M 1000000 1048576\n",
      "G 1000000000 1073741824\n",
      "T 1000000000000 1099511627776\n",
      "P 1000000000000000 1125899906842624\n",
      "E 1000000000000000000 1152921504606846976\n",
      "Z 1000000000000000000000 1180591620717411303424\n",
      "Y 1000000000000000000000000 1208925819614629174706176\n"
     ]
    }
   ],
   "source": [
    "prefixes = ['K', 'M', 'G', 'T', 'P', 'E', 'Z', 'Y']\n",
    "for i in range(1,9):\n",
    "    print(prefixes[i-1], 10**(3*i), 2**(10*i))"
   ]
  },
  {
   "cell_type": "code",
   "execution_count": 49,
   "metadata": {},
   "outputs": [
    {
     "data": {
      "text/plain": [
       "3.637978807091713"
      ]
     },
     "execution_count": 49,
     "metadata": {},
     "output_type": "execute_result"
    }
   ],
   "source": [
    "4*10**12 / 2**40"
   ]
  },
  {
   "cell_type": "code",
   "execution_count": 50,
   "metadata": {},
   "outputs": [
    {
     "data": {
      "text/plain": [
       "[WindowsPath('C:/Users/Matthias/Documents/Python/Stage20200526/.git'),\n",
       " WindowsPath('C:/Users/Matthias/Documents/Python/Stage20200526/.ipynb_checkpoints'),\n",
       " WindowsPath('C:/Users/Matthias/Documents/Python/Stage20200526/carremagic_ex.py'),\n",
       " WindowsPath('C:/Users/Matthias/Documents/Python/Stage20200526/csv'),\n",
       " WindowsPath('C:/Users/Matthias/Documents/Python/Stage20200526/DatetimeData.ipynb'),\n",
       " WindowsPath('C:/Users/Matthias/Documents/Python/Stage20200526/Fonctions.ipynb'),\n",
       " WindowsPath('C:/Users/Matthias/Documents/Python/Stage20200526/MagicSquare.ipynb'),\n",
       " WindowsPath('C:/Users/Matthias/Documents/Python/Stage20200526/magiksquare.py'),\n",
       " WindowsPath('C:/Users/Matthias/Documents/Python/Stage20200526/PremiersPas.ipynb'),\n",
       " WindowsPath('C:/Users/Matthias/Documents/Python/Stage20200526/Python2020intro.pdf'),\n",
       " WindowsPath('C:/Users/Matthias/Documents/Python/Stage20200526/Python2020intro.pptx'),\n",
       " WindowsPath('C:/Users/Matthias/Documents/Python/Stage20200526/squaremagik.png'),\n",
       " WindowsPath('C:/Users/Matthias/Documents/Python/Stage20200526/timezone-map.jpg'),\n",
       " WindowsPath('C:/Users/Matthias/Documents/Python/Stage20200526/TraitementTexte.ipynb'),\n",
       " WindowsPath('C:/Users/Matthias/Documents/Python/Stage20200526/Untitled.ipynb')]"
      ]
     },
     "execution_count": 50,
     "metadata": {},
     "output_type": "execute_result"
    }
   ],
   "source": [
    "sorted(currDirAbs.iterdir())"
   ]
  },
  {
   "cell_type": "code",
   "execution_count": 52,
   "metadata": {},
   "outputs": [],
   "source": [
    "def tailleFichier(path):\n",
    "    return path.stat().st_size"
   ]
  },
  {
   "cell_type": "code",
   "execution_count": 53,
   "metadata": {},
   "outputs": [
    {
     "data": {
      "text/plain": [
       "4096"
      ]
     },
     "execution_count": 53,
     "metadata": {},
     "output_type": "execute_result"
    }
   ],
   "source": [
    "tailleFichier(currDirAbs)"
   ]
  },
  {
   "cell_type": "code",
   "execution_count": 54,
   "metadata": {},
   "outputs": [
    {
     "data": {
      "text/plain": [
       "[WindowsPath('C:/Users/Matthias/Documents/Python/Stage20200526/csv'),\n",
       " WindowsPath('C:/Users/Matthias/Documents/Python/Stage20200526/magiksquare.py'),\n",
       " WindowsPath('C:/Users/Matthias/Documents/Python/Stage20200526/carremagic_ex.py'),\n",
       " WindowsPath('C:/Users/Matthias/Documents/Python/Stage20200526/.git'),\n",
       " WindowsPath('C:/Users/Matthias/Documents/Python/Stage20200526/.ipynb_checkpoints'),\n",
       " WindowsPath('C:/Users/Matthias/Documents/Python/Stage20200526/MagicSquare.ipynb'),\n",
       " WindowsPath('C:/Users/Matthias/Documents/Python/Stage20200526/TraitementTexte.ipynb'),\n",
       " WindowsPath('C:/Users/Matthias/Documents/Python/Stage20200526/Untitled.ipynb'),\n",
       " WindowsPath('C:/Users/Matthias/Documents/Python/Stage20200526/squaremagik.png'),\n",
       " WindowsPath('C:/Users/Matthias/Documents/Python/Stage20200526/Fonctions.ipynb'),\n",
       " WindowsPath('C:/Users/Matthias/Documents/Python/Stage20200526/DatetimeData.ipynb'),\n",
       " WindowsPath('C:/Users/Matthias/Documents/Python/Stage20200526/PremiersPas.ipynb'),\n",
       " WindowsPath('C:/Users/Matthias/Documents/Python/Stage20200526/Python2020intro.pdf'),\n",
       " WindowsPath('C:/Users/Matthias/Documents/Python/Stage20200526/Python2020intro.pptx'),\n",
       " WindowsPath('C:/Users/Matthias/Documents/Python/Stage20200526/timezone-map.jpg')]"
      ]
     },
     "execution_count": 54,
     "metadata": {},
     "output_type": "execute_result"
    }
   ],
   "source": [
    "sorted(currDirAbs.iterdir(), key=tailleFichier)"
   ]
  },
  {
   "cell_type": "code",
   "execution_count": 55,
   "metadata": {},
   "outputs": [
    {
     "data": {
      "text/plain": [
       "[WindowsPath('C:/Users/Matthias/Documents/Python/Stage20200526/csv'),\n",
       " WindowsPath('C:/Users/Matthias/Documents/Python/Stage20200526/magiksquare.py'),\n",
       " WindowsPath('C:/Users/Matthias/Documents/Python/Stage20200526/carremagic_ex.py'),\n",
       " WindowsPath('C:/Users/Matthias/Documents/Python/Stage20200526/.git'),\n",
       " WindowsPath('C:/Users/Matthias/Documents/Python/Stage20200526/.ipynb_checkpoints'),\n",
       " WindowsPath('C:/Users/Matthias/Documents/Python/Stage20200526/MagicSquare.ipynb'),\n",
       " WindowsPath('C:/Users/Matthias/Documents/Python/Stage20200526/TraitementTexte.ipynb'),\n",
       " WindowsPath('C:/Users/Matthias/Documents/Python/Stage20200526/squaremagik.png'),\n",
       " WindowsPath('C:/Users/Matthias/Documents/Python/Stage20200526/Untitled.ipynb'),\n",
       " WindowsPath('C:/Users/Matthias/Documents/Python/Stage20200526/Fonctions.ipynb'),\n",
       " WindowsPath('C:/Users/Matthias/Documents/Python/Stage20200526/DatetimeData.ipynb'),\n",
       " WindowsPath('C:/Users/Matthias/Documents/Python/Stage20200526/PremiersPas.ipynb'),\n",
       " WindowsPath('C:/Users/Matthias/Documents/Python/Stage20200526/Python2020intro.pdf'),\n",
       " WindowsPath('C:/Users/Matthias/Documents/Python/Stage20200526/Python2020intro.pptx'),\n",
       " WindowsPath('C:/Users/Matthias/Documents/Python/Stage20200526/timezone-map.jpg')]"
      ]
     },
     "execution_count": 55,
     "metadata": {},
     "output_type": "execute_result"
    }
   ],
   "source": [
    "sorted(currDirAbs.iterdir(), key=lambda p: p.stat().st_size)"
   ]
  },
  {
   "cell_type": "code",
   "execution_count": null,
   "metadata": {},
   "outputs": [],
   "source": []
  },
  {
   "cell_type": "code",
   "execution_count": null,
   "metadata": {},
   "outputs": [],
   "source": []
  },
  {
   "cell_type": "code",
   "execution_count": null,
   "metadata": {},
   "outputs": [],
   "source": []
  },
  {
   "cell_type": "code",
   "execution_count": null,
   "metadata": {},
   "outputs": [],
   "source": []
  },
  {
   "cell_type": "code",
   "execution_count": null,
   "metadata": {},
   "outputs": [],
   "source": []
  },
  {
   "cell_type": "code",
   "execution_count": null,
   "metadata": {},
   "outputs": [],
   "source": []
  }
 ],
 "metadata": {
  "kernelspec": {
   "display_name": "Python 3",
   "language": "python",
   "name": "python3"
  },
  "language_info": {
   "codemirror_mode": {
    "name": "ipython",
    "version": 3
   },
   "file_extension": ".py",
   "mimetype": "text/x-python",
   "name": "python",
   "nbconvert_exporter": "python",
   "pygments_lexer": "ipython3",
   "version": "3.7.4"
  }
 },
 "nbformat": 4,
 "nbformat_minor": 2
}
