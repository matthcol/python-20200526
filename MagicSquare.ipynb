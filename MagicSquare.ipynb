{
 "cells": [
  {
   "cell_type": "markdown",
   "metadata": {},
   "source": [
    "# Carré Magique"
   ]
  },
  {
   "cell_type": "code",
   "execution_count": 1,
   "metadata": {},
   "outputs": [],
   "source": [
    "# somme de toutes les lignes (3), colonnes (3), diagonales (2) sont à 15\n",
    "# en utilisant les nombres de 1 à 9\n",
    "# soit n = taille du carré, on place les nombres de 1 à n**2\n",
    "# et somme magique  = n*(n**2+1)//2\n",
    "c = [[8,1,6],\n",
    "    [3,5,7], \n",
    "    [4,9,2]]"
   ]
  },
  {
   "cell_type": "code",
   "execution_count": 27,
   "metadata": {},
   "outputs": [],
   "source": [
    "# carré non magique car somme des lignes 0 et 2 sont à 23 et 7, les autres sont à 15\n",
    "c2 = [[8,9,6],\n",
    "      [3,5,7],\n",
    "      [4,1,2]]"
   ]
  },
  {
   "cell_type": "code",
   "execution_count": 38,
   "metadata": {},
   "outputs": [],
   "source": [
    "# carré du général Cazalas\n",
    "cGC = [\n",
    "[1,\t8,\t53,\t52,\t45,\t44,\t25,\t32],\n",
    "[64,\t57,\t12,\t13,\t20,\t21,\t40,\t33],\n",
    "[2,\t7,\t54,\t51,\t46,\t43,\t26,\t31],\n",
    "[63,\t58,\t11,\t14,\t19,\t22,\t39,\t34],\n",
    "[3,\t6,\t55,\t50,\t47,\t42,\t27,\t30],\n",
    "[62,\t59,\t10,\t15,\t18,\t23,\t38,\t35],\n",
    "[4,\t5,\t56,\t49,\t48,\t41,\t28,\t29],\n",
    "[61,\t60,\t9,\t16,\t17,\t24,\t37,\t36]]"
   ]
  },
  {
   "cell_type": "code",
   "execution_count": 7,
   "metadata": {},
   "outputs": [
    {
     "data": {
      "text/plain": [
       "3"
      ]
     },
     "execution_count": 7,
     "metadata": {},
     "output_type": "execute_result"
    }
   ],
   "source": [
    "# valeur 3 en ligne 1 et colonne 0\n",
    "c[1][0]"
   ]
  },
  {
   "cell_type": "code",
   "execution_count": 5,
   "metadata": {},
   "outputs": [
    {
     "data": {
      "text/plain": [
       "15"
      ]
     },
     "execution_count": 5,
     "metadata": {},
     "output_type": "execute_result"
    }
   ],
   "source": [
    "# somme de la ligne 0\n",
    "sum(c[0])"
   ]
  },
  {
   "cell_type": "code",
   "execution_count": 8,
   "metadata": {},
   "outputs": [
    {
     "data": {
      "text/plain": [
       "[8, 3, 4]"
      ]
     },
     "execution_count": 8,
     "metadata": {},
     "output_type": "execute_result"
    }
   ],
   "source": [
    "# colonne 0\n",
    "[ c[i][0] for i in range(len(c)) ]"
   ]
  },
  {
   "cell_type": "code",
   "execution_count": 9,
   "metadata": {},
   "outputs": [
    {
     "data": {
      "text/plain": [
       "15"
      ]
     },
     "execution_count": 9,
     "metadata": {},
     "output_type": "execute_result"
    }
   ],
   "source": [
    "# somme de la colonne 0\n",
    "sum(c[i][0] for i in range(len(c)))"
   ]
  },
  {
   "cell_type": "code",
   "execution_count": 14,
   "metadata": {},
   "outputs": [
    {
     "data": {
      "text/plain": [
       "[8, 5, 2]"
      ]
     },
     "execution_count": 14,
     "metadata": {},
     "output_type": "execute_result"
    }
   ],
   "source": [
    "# diagonale c[0][0], c[1][1] et c[2][2]\n",
    "[ c[i][i] for i in range(len(c)) ]"
   ]
  },
  {
   "cell_type": "code",
   "execution_count": 17,
   "metadata": {},
   "outputs": [
    {
     "data": {
      "text/plain": [
       "[6, 5, 4]"
      ]
     },
     "execution_count": 17,
     "metadata": {},
     "output_type": "execute_result"
    }
   ],
   "source": [
    "# diagonale c[0][2], c[1][1] et c[2][0] : 6,5,4\n",
    "# diagonale c[0][-1], c[1][-2] et c[2][-3] : 6,5,4\n",
    "n = len(c)\n",
    "#[ c[i][n-i-1] for i in range(len(c)) ]\n",
    "[ c[i][-i-1] for i in range(len(c)) ]"
   ]
  },
  {
   "cell_type": "code",
   "execution_count": 16,
   "metadata": {},
   "outputs": [
    {
     "data": {
      "text/plain": [
       "[[8, 1, 6], [3, 5, 7], [4, 9, 2]]"
      ]
     },
     "execution_count": 16,
     "metadata": {},
     "output_type": "execute_result"
    }
   ],
   "source": [
    "c"
   ]
  },
  {
   "cell_type": "code",
   "execution_count": 40,
   "metadata": {},
   "outputs": [],
   "source": [
    "#  -  -  - : 15 \n",
    "#  8  1  6 : 15\n",
    "#  3  5  7 : 15\n",
    "#  4  9  2 : 15\n",
    "#  -  -  - : 15\n",
    "#  15 15 15  \n",
    "# Magik : True\n",
    "def displayMagicSquare(square):\n",
    "    \"\"\"display the square with all its sums and its magic character\"\"\"\n",
    "    n = len(square)\n",
    "    # V0 : afficher les valeurs uniquement en mode carré\n",
    "    for i in range(n):\n",
    "        for j in range(n):\n",
    "            print(\"{:>3}\".format(square[i][j]), end='')\n",
    "        print()\n",
    "  \n",
    "    "
   ]
  },
  {
   "cell_type": "code",
   "execution_count": 41,
   "metadata": {},
   "outputs": [
    {
     "name": "stdout",
     "output_type": "stream",
     "text": [
      "  8  1  6\n",
      "  3  5  7\n",
      "  4  9  2\n"
     ]
    }
   ],
   "source": [
    "displayMagicSquare(c)"
   ]
  },
  {
   "cell_type": "code",
   "execution_count": 42,
   "metadata": {},
   "outputs": [
    {
     "name": "stdout",
     "output_type": "stream",
     "text": [
      "  8  9  6\n",
      "  3  5  7\n",
      "  4  1  2\n"
     ]
    }
   ],
   "source": [
    "displayMagicSquare(c2)"
   ]
  },
  {
   "cell_type": "code",
   "execution_count": 43,
   "metadata": {},
   "outputs": [
    {
     "name": "stdout",
     "output_type": "stream",
     "text": [
      "  1  8 53 52 45 44 25 32\n",
      " 64 57 12 13 20 21 40 33\n",
      "  2  7 54 51 46 43 26 31\n",
      " 63 58 11 14 19 22 39 34\n",
      "  3  6 55 50 47 42 27 30\n",
      " 62 59 10 15 18 23 38 35\n",
      "  4  5 56 49 48 41 28 29\n",
      " 61 60  9 16 17 24 37 36\n"
     ]
    }
   ],
   "source": [
    "displayMagicSquare(cGC)"
   ]
  }
 ],
 "metadata": {
  "kernelspec": {
   "display_name": "Python 3",
   "language": "python",
   "name": "python3"
  },
  "language_info": {
   "codemirror_mode": {
    "name": "ipython",
    "version": 3
   },
   "file_extension": ".py",
   "mimetype": "text/x-python",
   "name": "python",
   "nbconvert_exporter": "python",
   "pygments_lexer": "ipython3",
   "version": "3.7.4"
  }
 },
 "nbformat": 4,
 "nbformat_minor": 2
}
