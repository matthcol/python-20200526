{
 "cells": [
  {
   "cell_type": "markdown",
   "metadata": {},
   "source": [
    "# Programmation Orientée Objets"
   ]
  },
  {
   "cell_type": "code",
   "execution_count": 99,
   "metadata": {},
   "outputs": [],
   "source": [
    "from functools import total_ordering\n",
    "from operator import attrgetter\n",
    "from datetime import date, timedelta\n",
    "import numpy as np"
   ]
  },
  {
   "cell_type": "code",
   "execution_count": 7,
   "metadata": {},
   "outputs": [
    {
     "name": "stdout",
     "output_type": "stream",
     "text": [
      "toulouse\n",
      "True\n",
      "Toulouse ville rose\n",
      "ToulouseToulouseToulouse\n",
      "Tou\n",
      "True\n",
      "8\n",
      "Toulouse\n",
      "'Toulouse'\n"
     ]
    }
   ],
   "source": [
    "# ville est un objet (data, instance) est de type str (classe str, modèle)\n",
    "ville = \"Toulouse\"\n",
    "# méthodes du stype str\n",
    "print(ville.lower())\n",
    "print(ville.startswith('To'))\n",
    "# opérateurs au comportement spécifique\n",
    "print(ville + \" ville rose\")\n",
    "print(ville * 3)\n",
    "print(ville[:3])\n",
    "print('ou' in ville)\n",
    "# built-ins fonctions au comportement spécifique\n",
    "print(len(ville))\n",
    "print(str(ville))\n",
    "print(repr(ville))"
   ]
  },
  {
   "cell_type": "code",
   "execution_count": 27,
   "metadata": {},
   "outputs": [
    {
     "name": "stdout",
     "output_type": "stream",
     "text": [
      "2020-05-29 2020-06-02\n",
      "2020 5 29\n",
      "29/05/2020\n",
      "2020-05-29\n",
      "False\n",
      "True\n",
      "2020-06-02\n",
      "2020-05-29\n",
      "datetime.date(2020, 5, 29)\n"
     ]
    }
   ],
   "source": [
    "# d est un objet (une instance) de la classe date (type, modèle)\n",
    "d = date.today()\n",
    "# constructeur du type date\n",
    "juin2 = date(2020,6,2)\n",
    "print(d, juin2)\n",
    "# attributs spécifiques du type date\n",
    "print(d.year, d.month, d.day)\n",
    "# méthodes spécifiques au type date\n",
    "print(d.strftime('%d/%m/%Y'))\n",
    "print(d.isoformat())\n",
    "# opérateurs spécifiques du type date\n",
    "print(d == date(2020,6,2))\n",
    "print(d < date(2020,6,2))\n",
    "print(d + timedelta(days=4))\n",
    "# built-in fonctions\n",
    "print(str(d))\n",
    "print(repr(d))\n"
   ]
  },
  {
   "cell_type": "code",
   "execution_count": 103,
   "metadata": {},
   "outputs": [],
   "source": [
    "# définition du type Movie (classe) pour représenter des objets movies\n",
    "@total_ordering\n",
    "class Movie:\n",
    "    def __init__(self, title, year, duration=None):\n",
    "        \"\"\"constructeur de la classe Movie\"\"\"\n",
    "        self.title = title\n",
    "        self.year = year\n",
    "        self.duration = duration\n",
    "        \n",
    "    def age(self):\n",
    "        return date.today().year - self.year\n",
    "        \n",
    "    # implémentation de built-in fonctions\n",
    "    def __repr__(self):\n",
    "        \"\"\"redéfinition du comportement de repr/str\"\"\"\n",
    "        return f'{self.title} ({self.year})'\n",
    "    \n",
    "    def __len__(self):\n",
    "        return self.duration if self.duration is not None else 0\n",
    "    \n",
    "    # implémentation d'opérateurs\n",
    "    def __eq__(self, other): # == et !=\n",
    "        # optimisation\n",
    "        if self is other:\n",
    "            return True\n",
    "        # if not isinstance(other, Movie):\n",
    "        if type(other) != Movie:\n",
    "            return NotImplemented\n",
    "        return (self.title, self.year) == (other.title, other.year)\n",
    "    \n",
    "    def __lt__(self, other): # less than <\n",
    "        if type(other) != Movie:\n",
    "            return NotImplemented\n",
    "        return (self.year, self.title) < (other.year, other.title)\n",
    "        "
   ]
  },
  {
   "cell_type": "code",
   "execution_count": 104,
   "metadata": {},
   "outputs": [
    {
     "name": "stdout",
     "output_type": "stream",
     "text": [
      "Joker, 2019, 122\n",
      "Spider-Man: Far from Home, 2019, 129\n",
      "Lord of War, 2005, None\n",
      "Joker (2019)\n",
      "Spider-Man: Far from Home (2019)\n"
     ]
    },
    {
     "data": {
      "text/plain": [
       "Joker (2019)"
      ]
     },
     "execution_count": 104,
     "metadata": {},
     "output_type": "execute_result"
    }
   ],
   "source": [
    "movie1 = Movie(\"Joker\", 2019, 122)\n",
    "movie2 = Movie(\"Spider-Man: Far from Home\", 2019, 129)\n",
    "movie3 = Movie(\"Lord of War\", 2005)\n",
    "movies = [ movie1, movie2, movie3]\n",
    "movies.append(Movie(\"The Lion King\", 2019))\n",
    "movies.append(Movie(\"The Lion King\", 1994))\n",
    "movies.append(Movie(\"The Man Who Knew Too Much\", 1934))\n",
    "movies.append(Movie(\"The Man Who Knew Too Much\", 1956))\n",
    "print(movie1.title, movie1.year, movie1.duration, sep=', ')\n",
    "print(movie2.title, movie2.year, movie2.duration, sep=', ')\n",
    "print(movie3.title, movie3.year, movie3.duration, sep=', ')\n",
    "print(movie1) # appelle implicitement str\n",
    "print(movie2)\n",
    "movie1 # apelle implictement repr"
   ]
  },
  {
   "cell_type": "code",
   "execution_count": 105,
   "metadata": {},
   "outputs": [
    {
     "data": {
      "text/plain": [
       "1"
      ]
     },
     "execution_count": 105,
     "metadata": {},
     "output_type": "execute_result"
    }
   ],
   "source": [
    "movie1.age()"
   ]
  },
  {
   "cell_type": "code",
   "execution_count": 106,
   "metadata": {},
   "outputs": [
    {
     "data": {
      "text/plain": [
       "64"
      ]
     },
     "execution_count": 106,
     "metadata": {},
     "output_type": "execute_result"
    }
   ],
   "source": [
    "movies[-1].age()"
   ]
  },
  {
   "cell_type": "code",
   "execution_count": 107,
   "metadata": {},
   "outputs": [
    {
     "data": {
      "text/plain": [
       "[1, 1, 15, 1, 26, 86, 64]"
      ]
     },
     "execution_count": 107,
     "metadata": {},
     "output_type": "execute_result"
    }
   ],
   "source": [
    "[ m.age() for m in movies ]"
   ]
  },
  {
   "cell_type": "code",
   "execution_count": 93,
   "metadata": {},
   "outputs": [
    {
     "name": "stdout",
     "output_type": "stream",
     "text": [
      "True\n",
      "False\n",
      "True\n",
      "False\n"
     ]
    }
   ],
   "source": [
    "print(movie1 < movie2)\n",
    "print(movie1 > movie2)\n",
    "print(movie1 <= movie2)\n",
    "print(movie1 >= movie2)"
   ]
  },
  {
   "cell_type": "code",
   "execution_count": 88,
   "metadata": {},
   "outputs": [
    {
     "data": {
      "text/plain": [
       "[The Man Who Knew Too Much (1934),\n",
       " The Man Who Knew Too Much (1956),\n",
       " The Lion King (1994),\n",
       " Lord of War (2005),\n",
       " Joker (2019),\n",
       " Spider-Man: Far from Home (2019),\n",
       " The Lion King (2019)]"
      ]
     },
     "execution_count": 88,
     "metadata": {},
     "output_type": "execute_result"
    }
   ],
   "source": [
    "# tri avec l'opérateur <\n",
    "sorted(movies)"
   ]
  },
  {
   "cell_type": "code",
   "execution_count": 100,
   "metadata": {},
   "outputs": [
    {
     "data": {
      "text/plain": [
       "[Joker (2019),\n",
       " Lord of War (2005),\n",
       " Spider-Man: Far from Home (2019),\n",
       " The Lion King (2019),\n",
       " The Lion King (1994),\n",
       " The Man Who Knew Too Much (1934),\n",
       " The Man Who Knew Too Much (1956)]"
      ]
     },
     "execution_count": 100,
     "metadata": {},
     "output_type": "execute_result"
    }
   ],
   "source": [
    "# sorted(movies, key=lambda m: m.title)\n",
    "sorted(movies, key=attrgetter('title'))"
   ]
  },
  {
   "cell_type": "code",
   "execution_count": 101,
   "metadata": {},
   "outputs": [
    {
     "data": {
      "text/plain": [
       "[Joker (2019),\n",
       " Lord of War (2005),\n",
       " Spider-Man: Far from Home (2019),\n",
       " The Lion King (1994),\n",
       " The Lion King (2019),\n",
       " The Man Who Knew Too Much (1934),\n",
       " The Man Who Knew Too Much (1956)]"
      ]
     },
     "execution_count": 101,
     "metadata": {},
     "output_type": "execute_result"
    }
   ],
   "source": [
    "# sorted(movies, key=lambda m: (m.title,m.year))\n",
    "sorted(movies, key=attrgetter('title','year'))"
   ]
  },
  {
   "cell_type": "code",
   "execution_count": 94,
   "metadata": {},
   "outputs": [
    {
     "name": "stdout",
     "output_type": "stream",
     "text": [
      "False False\n",
      "True True\n",
      "True False\n",
      "False True\n",
      "False\n",
      "False\n",
      "True\n"
     ]
    }
   ],
   "source": [
    "print(movie1 == movie2, movie1 is movie2)\n",
    "print(movie1 == movie1, movie1 is movie1)\n",
    "m = Movie(\"Joker\", 2019, 122)\n",
    "print(movie1 == m, movie1 is m)\n",
    "print(movie1 != m, movie1 is not m)\n",
    "print(movie1 == 55)\n",
    "print(55 == movie1)\n",
    "print(m in movies)"
   ]
  },
  {
   "cell_type": "code",
   "execution_count": 78,
   "metadata": {},
   "outputs": [
    {
     "data": {
      "text/plain": [
       "array([[0, 0, 0],\n",
       "       [0, 0, 0],\n",
       "       [0, 0, 0]])"
      ]
     },
     "execution_count": 78,
     "metadata": {},
     "output_type": "execute_result"
    }
   ],
   "source": [
    "carre = np.zeros((3,3), dtype=int)\n",
    "carre"
   ]
  },
  {
   "cell_type": "code",
   "execution_count": 79,
   "metadata": {},
   "outputs": [
    {
     "data": {
      "text/plain": [
       "array([[ True,  True,  True],\n",
       "       [ True,  True,  True],\n",
       "       [ True,  True,  True]])"
      ]
     },
     "execution_count": 79,
     "metadata": {},
     "output_type": "execute_result"
    }
   ],
   "source": [
    "carre == 0"
   ]
  },
  {
   "cell_type": "code",
   "execution_count": 80,
   "metadata": {},
   "outputs": [
    {
     "data": {
      "text/plain": [
       "array([[ True,  True,  True],\n",
       "       [ True,  True,  True],\n",
       "       [ True,  True,  True]])"
      ]
     },
     "execution_count": 80,
     "metadata": {},
     "output_type": "execute_result"
    }
   ],
   "source": [
    "0 == carre"
   ]
  },
  {
   "cell_type": "code",
   "execution_count": 102,
   "metadata": {},
   "outputs": [
    {
     "data": {
      "text/plain": [
       "array([0, 0, 0])"
      ]
     },
     "execution_count": 102,
     "metadata": {},
     "output_type": "execute_result"
    }
   ],
   "source": [
    "carre.diagonal()"
   ]
  },
  {
   "cell_type": "code",
   "execution_count": 37,
   "metadata": {},
   "outputs": [
    {
     "data": {
      "text/plain": [
       "__main__.Movie"
      ]
     },
     "execution_count": 37,
     "metadata": {},
     "output_type": "execute_result"
    }
   ],
   "source": [
    "type(movie1)"
   ]
  },
  {
   "cell_type": "code",
   "execution_count": 63,
   "metadata": {},
   "outputs": [
    {
     "data": {
      "text/plain": [
       "[Joker (2019), Spider-Man: Far from Home (2019), Lord of War (2005)]"
      ]
     },
     "execution_count": 63,
     "metadata": {},
     "output_type": "execute_result"
    }
   ],
   "source": [
    "movies"
   ]
  },
  {
   "cell_type": "code",
   "execution_count": 64,
   "metadata": {},
   "outputs": [
    {
     "data": {
      "text/plain": [
       "122"
      ]
     },
     "execution_count": 64,
     "metadata": {},
     "output_type": "execute_result"
    }
   ],
   "source": [
    "len(movie1)"
   ]
  },
  {
   "cell_type": "code",
   "execution_count": 48,
   "metadata": {},
   "outputs": [
    {
     "name": "stdout",
     "output_type": "stream",
     "text": [
      "Joker\n",
      "Spider-Man: Far from Home\n",
      "Lord of War\n"
     ]
    }
   ],
   "source": [
    "for m in movies:\n",
    "    print(m.title)"
   ]
  },
  {
   "cell_type": "code",
   "execution_count": 49,
   "metadata": {},
   "outputs": [
    {
     "data": {
      "text/plain": [
       "['Joker', 'Spider-Man: Far from Home', 'Lord of War']"
      ]
     },
     "execution_count": 49,
     "metadata": {},
     "output_type": "execute_result"
    }
   ],
   "source": [
    "[ m.title for m in movies ]"
   ]
  },
  {
   "cell_type": "code",
   "execution_count": 51,
   "metadata": {},
   "outputs": [
    {
     "data": {
      "text/plain": [
       "'Joker, Spider-Man: Far from Home'"
      ]
     },
     "execution_count": 51,
     "metadata": {},
     "output_type": "execute_result"
    }
   ],
   "source": [
    "\", \".join(m.title for m in movies if m.year==2019)"
   ]
  },
  {
   "cell_type": "code",
   "execution_count": 53,
   "metadata": {},
   "outputs": [
    {
     "data": {
      "text/plain": [
       "2005"
      ]
     },
     "execution_count": 53,
     "metadata": {},
     "output_type": "execute_result"
    }
   ],
   "source": [
    "min(m.year for m in movies)"
   ]
  },
  {
   "cell_type": "code",
   "execution_count": 56,
   "metadata": {},
   "outputs": [
    {
     "data": {
      "text/plain": [
       "251"
      ]
     },
     "execution_count": 56,
     "metadata": {},
     "output_type": "execute_result"
    }
   ],
   "source": [
    "dureeTotale = sum(m.duration for m in movies if m.duration is not None)\n",
    "dureeTotale"
   ]
  },
  {
   "cell_type": "code",
   "execution_count": 57,
   "metadata": {},
   "outputs": [],
   "source": [
    "movie3.duration = 122"
   ]
  },
  {
   "cell_type": "code",
   "execution_count": 58,
   "metadata": {},
   "outputs": [
    {
     "data": {
      "text/plain": [
       "373"
      ]
     },
     "execution_count": 58,
     "metadata": {},
     "output_type": "execute_result"
    }
   ],
   "source": [
    "dureeTotale = sum(m.duration for m in movies if m.duration is not None)\n",
    "dureeTotale"
   ]
  },
  {
   "cell_type": "code",
   "execution_count": 60,
   "metadata": {},
   "outputs": [
    {
     "data": {
      "text/plain": [
       "122"
      ]
     },
     "execution_count": 60,
     "metadata": {},
     "output_type": "execute_result"
    }
   ],
   "source": [
    "movies[2].duration"
   ]
  },
  {
   "cell_type": "code",
   "execution_count": 109,
   "metadata": {},
   "outputs": [],
   "source": [
    "# Héritage\n",
    "class Media:\n",
    "    pass\n",
    "\n",
    "class Movie(Media):\n",
    "    pass\n",
    "\n",
    "class TvSeries(Media):\n",
    "    pass"
   ]
  }
 ],
 "metadata": {
  "kernelspec": {
   "display_name": "Python 3",
   "language": "python",
   "name": "python3"
  },
  "language_info": {
   "codemirror_mode": {
    "name": "ipython",
    "version": 3
   },
   "file_extension": ".py",
   "mimetype": "text/x-python",
   "name": "python",
   "nbconvert_exporter": "python",
   "pygments_lexer": "ipython3",
   "version": "3.7.4"
  }
 },
 "nbformat": 4,
 "nbformat_minor": 2
}
