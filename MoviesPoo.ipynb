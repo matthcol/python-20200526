{
 "cells": [
  {
   "cell_type": "markdown",
   "metadata": {},
   "source": [
    "# Programmation Orientée Objets"
   ]
  },
  {
   "cell_type": "code",
   "execution_count": 9,
   "metadata": {},
   "outputs": [],
   "source": [
    "from datetime import date, timedelta"
   ]
  },
  {
   "cell_type": "code",
   "execution_count": 7,
   "metadata": {},
   "outputs": [
    {
     "name": "stdout",
     "output_type": "stream",
     "text": [
      "toulouse\n",
      "True\n",
      "Toulouse ville rose\n",
      "ToulouseToulouseToulouse\n",
      "Tou\n",
      "True\n",
      "8\n",
      "Toulouse\n",
      "'Toulouse'\n"
     ]
    }
   ],
   "source": [
    "# ville est un objet (data, instance) est de type str (classe str, modèle)\n",
    "ville = \"Toulouse\"\n",
    "# méthodes du stype str\n",
    "print(ville.lower())\n",
    "print(ville.startswith('To'))\n",
    "# opérateurs au comportement spécifique\n",
    "print(ville + \" ville rose\")\n",
    "print(ville * 3)\n",
    "print(ville[:3])\n",
    "print('ou' in ville)\n",
    "# built-ins fonctions au comportement spécifique\n",
    "print(len(ville))\n",
    "print(str(ville))\n",
    "print(repr(ville))"
   ]
  },
  {
   "cell_type": "code",
   "execution_count": 27,
   "metadata": {},
   "outputs": [
    {
     "name": "stdout",
     "output_type": "stream",
     "text": [
      "2020-05-29 2020-06-02\n",
      "2020 5 29\n",
      "29/05/2020\n",
      "2020-05-29\n",
      "False\n",
      "True\n",
      "2020-06-02\n",
      "2020-05-29\n",
      "datetime.date(2020, 5, 29)\n"
     ]
    }
   ],
   "source": [
    "# d est un objet (une instance) de la classe date (type, modèle)\n",
    "d = date.today()\n",
    "# constructeur du type date\n",
    "juin2 = date(2020,6,2)\n",
    "print(d, juin2)\n",
    "# attributs spécifiques du type date\n",
    "print(d.year, d.month, d.day)\n",
    "# méthodes spécifiques au type date\n",
    "print(d.strftime('%d/%m/%Y'))\n",
    "print(d.isoformat())\n",
    "# opérateurs spécifiques du type date\n",
    "print(d == date(2020,6,2))\n",
    "print(d < date(2020,6,2))\n",
    "print(d + timedelta(days=4))\n",
    "# built-in fonctions\n",
    "print(str(d))\n",
    "print(repr(d))\n"
   ]
  },
  {
   "cell_type": "code",
   "execution_count": 43,
   "metadata": {},
   "outputs": [],
   "source": [
    "# définition du type Movie (classe) pour représenter des objets movies\n",
    "class Movie:\n",
    "    def __init__(self, title, year, duration=None):\n",
    "        \"\"\"constructeur de la classe Movie\"\"\"\n",
    "        self.title = title\n",
    "        self.year = year\n",
    "        self.duration = duration\n",
    "        \n",
    "    # implémentation de built-in fonctions\n",
    "    def __repr__(self):\n",
    "        \"\"\"redéfinition du comportement de repr/str\"\"\"\n",
    "        return f'{self.title} ({self.year})'\n",
    "        "
   ]
  },
  {
   "cell_type": "code",
   "execution_count": 46,
   "metadata": {},
   "outputs": [
    {
     "name": "stdout",
     "output_type": "stream",
     "text": [
      "Joker, 2019, 122\n",
      "Spider-Man: Far from Home, 2019, 129\n",
      "Lord of War, 2005, None\n",
      "Joker (2019)\n",
      "Spider-Man: Far from Home (2019)\n"
     ]
    },
    {
     "data": {
      "text/plain": [
       "Joker (2019)"
      ]
     },
     "execution_count": 46,
     "metadata": {},
     "output_type": "execute_result"
    }
   ],
   "source": [
    "movie1 = Movie(\"Joker\", 2019, 122)\n",
    "movie2 = Movie(\"Spider-Man: Far from Home\", 2019, 129)\n",
    "movie3 = Movie(\"Lord of War\", 2005)\n",
    "movies = [ movie1, movie2, movie3]\n",
    "print(movie1.title, movie1.year, movie1.duration, sep=', ')\n",
    "print(movie2.title, movie2.year, movie2.duration, sep=', ')\n",
    "print(movie3.title, movie3.year, movie3.duration, sep=', ')\n",
    "print(movie1) # appelle implicitement str\n",
    "print(movie2)\n",
    "movie1 # apelle implictement repr"
   ]
  },
  {
   "cell_type": "code",
   "execution_count": 37,
   "metadata": {},
   "outputs": [
    {
     "data": {
      "text/plain": [
       "__main__.Movie"
      ]
     },
     "execution_count": 37,
     "metadata": {},
     "output_type": "execute_result"
    }
   ],
   "source": [
    "type(movie1)"
   ]
  },
  {
   "cell_type": "code",
   "execution_count": 47,
   "metadata": {},
   "outputs": [
    {
     "data": {
      "text/plain": [
       "[Joker (2019), Spider-Man: Far from Home (2019), Lord of War (2005)]"
      ]
     },
     "execution_count": 47,
     "metadata": {},
     "output_type": "execute_result"
    }
   ],
   "source": [
    "movies"
   ]
  },
  {
   "cell_type": "code",
   "execution_count": null,
   "metadata": {},
   "outputs": [],
   "source": []
  },
  {
   "cell_type": "code",
   "execution_count": null,
   "metadata": {},
   "outputs": [],
   "source": []
  }
 ],
 "metadata": {
  "kernelspec": {
   "display_name": "Python 3",
   "language": "python",
   "name": "python3"
  },
  "language_info": {
   "codemirror_mode": {
    "name": "ipython",
    "version": 3
   },
   "file_extension": ".py",
   "mimetype": "text/x-python",
   "name": "python",
   "nbconvert_exporter": "python",
   "pygments_lexer": "ipython3",
   "version": "3.7.4"
  }
 },
 "nbformat": 4,
 "nbformat_minor": 2
}
